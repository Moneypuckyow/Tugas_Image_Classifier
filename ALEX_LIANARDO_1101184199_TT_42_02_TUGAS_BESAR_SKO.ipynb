{
  "nbformat": 4,
  "nbformat_minor": 0,
  "metadata": {
    "colab": {
      "name": "ALEX LIANARDO_1101184199_TT-42-02_TUGAS BESAR SKO.ipynb",
      "provenance": [],
      "collapsed_sections": [],
      "authorship_tag": "ABX9TyNI3tJ6cPUoSn4QntQ6laYy",
      "include_colab_link": true
    },
    "kernelspec": {
      "name": "python3",
      "display_name": "Python 3"
    }
  },
  "cells": [
    {
      "cell_type": "markdown",
      "metadata": {
        "id": "view-in-github",
        "colab_type": "text"
      },
      "source": [
        "<a href=\"https://colab.research.google.com/github/Moneypuckyow/Tugas_Image_Classifier/blob/master/ALEX_LIANARDO_1101184199_TT_42_02_TUGAS_BESAR_SKO.ipynb\" target=\"_parent\"><img src=\"https://colab.research.google.com/assets/colab-badge.svg\" alt=\"Open In Colab\"/></a>"
      ]
    },
    {
      "cell_type": "markdown",
      "metadata": {
        "id": "U1VAUcb9mccR"
      },
      "source": [
        "Nama : Alex Lianardo\r\n",
        "\r\n",
        "Nim : 1101184199\r\n",
        "\r\n",
        "Kelas : TT-42-02\r\n",
        "\r\n",
        "Skenario Perancangan FTTB\r\n",
        "\r\n",
        "Jadi, skenario perancangan FTTB yang akan saya buat yaitu dari Sentral kemudian ke ODC lalu ke ONU lanjut ke ODP dan yang terakhir ke Roset. Terdapat salah satu Hotel di Palangkaraya bernama Aquarius, hotel ini memiliki 27 lantai, setiap lantai terdapat 10 kamar. Jadi, rencangan ini saya akan menggunakan Jenis Fiber G652D dengan panjang gelombang 1490 nm dengan redaman 0.28 dB/Km, dan akan menggunakan 4 konektor dan 2 spliter, dengan menggunakan spliter 1:32 dengan redaman 18.5 dB, lanjut untuk ONU ke ODP dengan menggunakan spliter 1:16 dengan redaman 15 dB untuk ODP ke Roset.Selain itu, dengan jumlah konektor terdapat 4 dan spliter 2, maka splicer ada 6 buah yang memiliki redaman 0.2 dB.\r\n",
        "\r\n",
        "\r\n",
        "\r\n",
        "\r\n",
        "\r\n",
        "\r\n",
        "\r\n"
      ]
    },
    {
      "cell_type": "code",
      "metadata": {
        "id": "gv6ugRTbokl7"
      },
      "source": [
        "import math as m\r\n",
        "import matplotlib.pyplot as plt\r\n",
        "import numpy as np"
      ],
      "execution_count": 28,
      "outputs": []
    },
    {
      "cell_type": "code",
      "metadata": {
        "id": "HdZEI6Vqo4wU"
      },
      "source": [
        "#Converter\r\n",
        "NtL = lambda x : 10 * np.log10(x)\r\n",
        "LtN = lambda x : 10**(x/10)\r\n",
        "\r\n",
        "#Parameter SNR\r\n",
        "R = 0.8 #Responsivitas\r\n",
        "SM = 6   #Safety Margin\r\n",
        "M = -0.23 #Tambahan daya sinyal OPD\r\n",
        "q = 1.6*10**-19 #Muatan\r\n",
        "id = 90*10**-9 #Dark Current\r\n",
        "B = 8*10**9 #Bandwidth\r\n",
        "F = 1 #Factor Gain\r\n",
        "K = 1.38*10**-23 #Konstanta Ballsman\r\n",
        "Teff = 300 #Suhu \r\n",
        "RL = 50 #Resistance Equivalent\r\n",
        "\r\n",
        "#Parameter Pr\r\n",
        "#jarak dari sentral ke ONU = 20 km\r\n",
        "#jarak dari ONU ke Roset = <500 m --> 5*27 = 135 m \r\n",
        "#jarak total = 20000 + 135 = 20135 m\r\n",
        "\r\n",
        "d = np.arange(0.135,20.136,1) #Jarak (km)\r\n",
        "L_fiber = 0.28 #berdasarkan jenis G625D (dB)  \r\n",
        "N_splicer = 6 #Jumlah Splicer\r\n",
        "L_splicer = 0.2 #Loss dari splicer (db)\r\n",
        "N_connector = 4 #Jumlah Konektor\r\n",
        "L_connector = 0.3 #Loss dari konektor (dB)\r\n",
        "L_splitter = 15 + 18.5 \r\n",
        "Pt = 2 #Daya tx (dBm)"
      ],
      "execution_count": 29,
      "outputs": []
    },
    {
      "cell_type": "code",
      "metadata": {
        "colab": {
          "base_uri": "https://localhost:8080/"
        },
        "id": "APbzsLyj7poy",
        "outputId": "4d14e34c-d71b-4784-cd00-bf16eb63a0af"
      },
      "source": [
        "#RUMUS PR\r\n",
        "def P_receive():\r\n",
        "  hambatan_fiber = d * L_fiber\r\n",
        "  hambatan_splicer = N_splicer * L_splicer\r\n",
        "  hambatan_connector = N_connector * L_connector\r\n",
        "\r\n",
        "  alfa_total = hambatan_fiber + hambatan_splicer + hambatan_connector + L_splitter + SM\r\n",
        "  print(\"Redaman Total =\", alfa_total)\r\n",
        "  Pr = (Pt - alfa_total)\r\n",
        "  return Pr\r\n",
        "\r\n",
        "Pr = P_receive()\r\n",
        "\r\n",
        "print(\"Daya Terima = \", Pr, \"dBm\")"
      ],
      "execution_count": 30,
      "outputs": [
        {
          "output_type": "stream",
          "text": [
            "Redaman Total = [41.9378 42.2178 42.4978 42.7778 43.0578 43.3378 43.6178 43.8978 44.1778\n",
            " 44.4578 44.7378 45.0178 45.2978 45.5778 45.8578 46.1378 46.4178 46.6978\n",
            " 46.9778 47.2578 47.5378]\n",
            "Daya Terima =  [-39.9378 -40.2178 -40.4978 -40.7778 -41.0578 -41.3378 -41.6178 -41.8978\n",
            " -42.1778 -42.4578 -42.7378 -43.0178 -43.2978 -43.5778 -43.8578 -44.1378\n",
            " -44.4178 -44.6978 -44.9778 -45.2578 -45.5378] dBm\n"
          ],
          "name": "stdout"
        }
      ]
    },
    {
      "cell_type": "code",
      "metadata": {
        "colab": {
          "base_uri": "https://localhost:8080/"
        },
        "id": "Jxci2NyF7yX1",
        "outputId": "0536937c-cb67-4082-8ee0-5d043e2790fe"
      },
      "source": [
        "#Arus Primer\r\n",
        "def arus_primer():\r\n",
        "  Pr_num = LtN(Pr)\r\n",
        "  ip = Pr_num * R\r\n",
        "  return ip\r\n",
        "ip = arus_primer()\r\n",
        "print(\"Ip = \", ip)"
      ],
      "execution_count": 31,
      "outputs": [
        {
          "output_type": "stream",
          "text": [
            "Ip =  [8.11540105e-05 7.60869170e-05 7.13362026e-05 6.68821133e-05\n",
            " 6.27061283e-05 5.87908835e-05 5.51200988e-05 5.16785104e-05\n",
            " 4.84518079e-05 4.54265743e-05 4.25902302e-05 3.99309817e-05\n",
            " 3.74377713e-05 3.51002320e-05 3.29086440e-05 3.08538943e-05\n",
            " 2.89274390e-05 2.71212678e-05 2.54278703e-05 2.38402051e-05\n",
            " 2.23516705e-05]\n"
          ],
          "name": "stdout"
        }
      ]
    },
    {
      "cell_type": "code",
      "metadata": {
        "colab": {
          "base_uri": "https://localhost:8080/"
        },
        "id": "y_1q2-d777BP",
        "outputId": "8bde45a0-f294-4c2a-a4af-f4a436eb67b9"
      },
      "source": [
        "#Signal Power\r\n",
        "def signal_power():\r\n",
        "  Is_kuadrat = (ip*M)**2\r\n",
        "  return Is_kuadrat\r\n",
        "Is_kuadrat = signal_power()\r\n",
        "print('Is^2 = ', Is_kuadrat)"
      ],
      "execution_count": 32,
      "outputs": [
        {
          "output_type": "stream",
          "text": [
            "Is^2 =  [3.48397994e-10 3.06249682e-10 2.69200366e-10 2.36633183e-10\n",
            " 2.08005896e-10 1.82841866e-10 1.60722118e-10 1.41278360e-10\n",
            " 1.24186860e-10 1.09163046e-10 9.59567756e-11 8.43481664e-11\n",
            " 7.41439375e-11 6.51741905e-11 5.72895810e-11 5.03588317e-11\n",
            " 4.42665470e-11 3.89112915e-11 3.42039014e-11 3.00659995e-11\n",
            " 2.64286906e-11]\n"
          ],
          "name": "stdout"
        }
      ]
    },
    {
      "cell_type": "code",
      "metadata": {
        "colab": {
          "base_uri": "https://localhost:8080/"
        },
        "id": "IipKEt9S8Bfo",
        "outputId": "8baae5d6-ef01-4350-e442-2786b6df98f4"
      },
      "source": [
        "#RUMUS SNR\r\n",
        "def SNR():\r\n",
        "  BDC = 2*q*id*B*(M**2)*F #Dark Current (Numerik)\r\n",
        "  SN = 2*q*ip*B*(M**2)*F #Shot Noise (Numerik)\r\n",
        "  NT = (4*K*Teff*B)/RL #Noise Thermal (Numerik)\r\n",
        "  Signal = Is_kuadrat # (Numerik)\r\n",
        "  Noise = BDC + SN + NT # (Numerik)\r\n",
        "\r\n",
        "  SNR = Signal / Noise\r\n",
        "  SNR_dBm = NtL(SNR)\r\n",
        "  return SNR_dBm\r\n",
        "\r\n",
        "SNR = SNR()\r\n",
        "print(SNR)"
      ],
      "execution_count": 33,
      "outputs": [
        {
          "output_type": "stream",
          "text": [
            "[21.17095669 20.61207694 20.05312751 19.49411271 18.9350366  18.37590299\n",
            " 17.81671543 17.25747729 16.6981917  16.1388616  15.57948978 15.02007882\n",
            " 14.46063115 13.90114905 13.34163468 12.78209003 12.222517   11.66291735\n",
            " 11.10329273 10.5436447   9.98397472]\n"
          ],
          "name": "stdout"
        }
      ]
    },
    {
      "cell_type": "code",
      "metadata": {
        "colab": {
          "base_uri": "https://localhost:8080/"
        },
        "id": "GDAifQQ_8HhR",
        "outputId": "1c34e8fe-c45a-4ae9-ca8b-cf785f3c6cca"
      },
      "source": [
        "#RUMUS Q\r\n",
        "def Q_rumus():\r\n",
        "  Q_rumus = 0.5*(10**(SNR/20))\r\n",
        "  return Q_rumus\r\n",
        "Q = Q_rumus()\r\n",
        "print(Q)"
      ],
      "execution_count": 34,
      "outputs": [
        {
          "output_type": "stream",
          "text": [
            "[5.72160456 5.36505096 5.03067637 4.71710605 4.42304985 4.14729715\n",
            " 3.88871196 3.64622839 3.4188464  3.20562772 3.00569212 2.81821385\n",
            " 2.64241826 2.47757869 2.32301352 2.1780834  2.04218863 1.91476672\n",
            " 1.79529012 1.68326402 1.57822435]\n"
          ],
          "name": "stdout"
        }
      ]
    },
    {
      "cell_type": "code",
      "metadata": {
        "colab": {
          "base_uri": "https://localhost:8080/"
        },
        "id": "X_G8QUa88PBm",
        "outputId": "250c33cd-0eb6-42cb-c95f-5fd231df80c3"
      },
      "source": [
        "#RUMUS BER\r\n",
        "pengkali_list = []\r\n",
        "def BER_rumus():\r\n",
        "  akar = 1/(Q * m.sqrt(2 * m.pi))\r\n",
        "  for i in range(len(Q)):\r\n",
        "    pengkali = m.exp(-(Q[i]**2)/2)\r\n",
        "    pengkali_list.append(pengkali)\r\n",
        "  BER = (1/akar)*(pengkali_list)\r\n",
        "  return BER\r\n",
        "BER = BER_rumus()\r\n",
        "print(BER)"
      ],
      "execution_count": 35,
      "outputs": [
        {
          "output_type": "stream",
          "text": [
            "[1.11663422e-06 7.55696053e-06 4.02919278e-05 1.74181846e-04\n",
            " 6.26152254e-04 1.91384404e-03 5.07198085e-03 1.18567388e-02\n",
            " 2.48222804e-02 4.71614682e-02 8.22784400e-02 1.33170792e-01\n",
            " 2.01784680e-01 2.88523771e-01 3.92039723e-01 5.09339848e-01\n",
            " 6.36159106e-01 7.67488739e-01 8.98141062e-01 1.02325061e+00\n",
            " 1.13864945e+00]\n"
          ],
          "name": "stdout"
        }
      ]
    },
    {
      "cell_type": "code",
      "metadata": {
        "colab": {
          "base_uri": "https://localhost:8080/",
          "height": 1000
        },
        "id": "aCRj8lxU8Rjf",
        "outputId": "5a29c1a4-a2ac-47b5-e48f-3114bf6b515d"
      },
      "source": [
        "#GRAFIK\r\n",
        "def grafik_pertama():\r\n",
        "  plt.figure()\r\n",
        "  plt.plot(d,SNR,'r')\r\n",
        "  plt.title('Perbandingan Jarak dengan SNR')\r\n",
        "  plt.xlabel('Jarak (Km)')\r\n",
        "  plt.ylabel('SNR (dB)')\r\n",
        "  plt.show()\r\n",
        "\r\n",
        "def grafik_kedua():\r\n",
        "  plt.figure()\r\n",
        "  plt.plot(d,Q,'g')\r\n",
        "  plt.title('Perbandingan Jarak dengan Q')\r\n",
        "  plt.xlabel('Jarak (Km)')\r\n",
        "  plt.ylabel('Q')\r\n",
        "  plt.show()\r\n",
        "\r\n",
        "def grafik_ketiga():\r\n",
        "  plt.figure()\r\n",
        "  plt.plot(d,BER,'b')\r\n",
        "  plt.title('Perbandingan Jarak dengan BER')\r\n",
        "  plt.xlabel('Jarak (Km)')\r\n",
        "  plt.ylabel('BER')\r\n",
        "  plt.show()\r\n",
        "\r\n",
        "def grafik_perbandingan_SNR_BER():\r\n",
        "  plt.figure()\r\n",
        "  plt.plot(SNR,BER,'--')\r\n",
        "  plt.title('Perbanding BER dan SNR')\r\n",
        "  plt.xlabel('SNR')\r\n",
        "  plt.ylabel('BER')\r\n",
        "  plt.show()\r\n",
        "  \r\n",
        "\r\n",
        "grafik_pertama()\r\n",
        "grafik_kedua()\r\n",
        "grafik_ketiga()\r\n",
        "grafik_perbandingan_SNR_BER()"
      ],
      "execution_count": 36,
      "outputs": [
        {
          "output_type": "display_data",
          "data": {
            "image/png": "[encoded data removed]",
            "text/plain": [
              "<Figure size 432x288 with 1 Axes>"
            ]
          },
          "metadata": {
            "tags": [],
            "needs_background": "light"
          }
        },
        {
          "output_type": "display_data",
          "data": {
            "image/png": "[encoded data removed]",
            "text/plain": [
              "<Figure size 432x288 with 1 Axes>"
            ]
          },
          "metadata": {
            "tags": [],
            "needs_background": "light"
          }
        },
        {
          "output_type": "display_data",
          "data": {
            "image/png": "[encoded data removed]",
            "text/plain": [
              "<Figure size 432x288 with 1 Axes>"
            ]
          },
          "metadata": {
            "tags": [],
            "needs_background": "light"
          }
        },
        {
          "output_type": "display_data",
          "data": {
            "image/png": "[encoded data removed]",
            "text/plain": [
              "<Figure size 432x288 with 1 Axes>"
            ]
          },
          "metadata": {
            "tags": [],
            "needs_background": "light"
          }
        }
      ]
    }
  ]
}